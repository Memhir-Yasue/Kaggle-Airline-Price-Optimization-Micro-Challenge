{
 "cells": [
  {
   "cell_type": "markdown",
   "metadata": {
    "_uuid": "952c0d8ef6614dadd0aa9c8306c48d55b4ce85f6"
   },
   "source": [
    "# Intro\n",
    "\n",
    "Data scientists tend to focus on **prediction** because that's where conventional machine learning excels. But real world decision-making involves both prediction and **optimization**.  After predicting what will happen, you decide what to do about it.\n",
    "\n",
    "Optimization gets less attention than it deserves. So this micro-challenge will test your optimization skills as you write a function to improve how airlines set prices.\n",
    "\n",
    "![Imgur](https://i.imgur.com/AKrbLMR.jpg)\n",
    "\n",
    "\n",
    "# The Problem\n",
    "\n",
    "You recently started Aviato.com, a startup that helps airlines set ticket prices. \n",
    "\n",
    "Aviato's success will depend on a function called `pricing_function`.  This notebook already includes a very simple version of `pricing_function`.  You will modify `pricing_function` to maximize the total revenue collected for all flights in our simulated environment.\n",
    "\n",
    "For each flight, `pricing_function` will be run once per (simulated) day to set that day's ticket price. The seats you don't sell today will be available to sell tomorrow, unless the flight leaves that day.\n",
    "\n",
    "Your `pricing_function` is run for one flight at a time, and it takes following inputs:\n",
    "- **Number of days until the flight**\n",
    "- **Number of seats they have left to sell**\n",
    "- **A variable called `demand_level` that determines how many tickets you can sell at any given price. **\n",
    "\n",
    "The quantity you sell at any price is:\n",
    "> quantity_sold = demand_level - price\n",
    "\n",
    "Ticket quantities are capped at the number of seats available.\n",
    "\n",
    "Your function will output the ticket price.\n",
    "\n",
    "You learn the `demand_level` for each day at the time you need to make predictions for that day. For all days in the future, you only know `demand_level` will be drawn from the uniform distribution between 100 and 200.  So, for any day in the future, it is equally likely to be each value between 100 and 200.\n",
    "\n",
    "In case this is still unclear, some relevant implementation code is shown below.\n",
    "\n",
    "# The Simulator\n",
    "We will run your pricing function in a simulator to test how well it performs on a range of flight situations.  **Run the following code cell to set up your simulation environment:**"
   ]
  },
  {
   "cell_type": "code",
   "execution_count": 1,
   "metadata": {
    "_uuid": "29b901e17dc046f84d6502c06b6933c8ae4b6f60"
   },
   "outputs": [],
   "source": [
    "import sys\n",
    "import numpy as np\n",
    "import matplotlib.pyplot as plt\n",
    "import seaborn as sns\n",
    "from scipy import stats\n",
    "sys.path.append('../input')\n",
    "from flight_revenue_simulator import simulate_revenue, score_me\n"
   ]
  },
  {
   "cell_type": "markdown",
   "metadata": {
    "_uuid": "a7b28253c46d09898ccc8908de34f38015e99bf4"
   },
   "source": [
    "In case you want to check your understanding of the simulator logic, here is a simplified version of some of the key logic (leaving out the code that prints your progress). If you feel you understand the description above, you can skip reading this code.\n",
    "\n",
    "```\n",
    "def _tickets_sold(p, demand_level, max_qty):\n",
    "        quantity_demanded = floor(max(0, p - demand_level))\n",
    "        return min(quantity_demanded, max_qty)\n",
    "\n",
    "def simulate_revenue(days_left, tickets_left, pricing_function, rev_to_date=0, demand_level_min=100, demand_level_max=200):\n",
    "    if (days_left == 0) or (tickets_left == 0):\n",
    "        return rev_to_date\n",
    "    else:\n",
    "        demand_level = uniform(demand_level_min, demand_level_max)\n",
    "        p = pricing_function(days_left, tickets_left, demand_level)\n",
    "        q = _tickets_sold(demand_level, p, tickets_left)\n",
    "        return _total_revenue(days_left = days_left-1, \n",
    "                              tickets_left = tickets_left-q, \n",
    "                              pricing_function = pricing_function, \n",
    "                              rev_to_date = rev_to_date + p * q,\n",
    "                              demand_level_min = demand_level_min,\n",
    "                              demand_level_max = demand_level_max\n",
    "                             )\n",
    "```\n",
    "\n",
    "# Your Code\n",
    "\n",
    "Here is starter code for the pricing function.  If you use this function, you will sell 10 tickets each day (until you run out of tickets)."
   ]
  },
  {
   "cell_type": "code",
   "execution_count": 2,
   "metadata": {
    "_uuid": "2c2f23e41720f1c46a9ec9513456ec7ee821b23e"
   },
   "outputs": [],
   "source": [
    "\n",
    "demand_list = []\n",
    "avrg_demand = demand_list\n",
    "\n",
    "def avrg_calc(demand_level):\n",
    "    avrg_demand.append(demand_level)\n",
    "    return np.mean(avrg_demand)\n",
    "\n",
    "def std_demand(demand_level):\n",
    "    return np.std(avrg_demand)"
   ]
  },
  {
   "cell_type": "code",
   "execution_count": 3,
   "metadata": {
    "_cell_guid": "79c7e3d0-c299-4dcb-8224-4455121ee9b0",
    "_uuid": "d629ff2d2480ee46fbb7e2d37f6b5fab8052498a"
   },
   "outputs": [],
   "source": [
    "def pricing_function(days_left, tickets_left, demand_level):\n",
    "    \"\"\"More work needed\"\"\"\n",
    "    average_demand = avrg_calc(demand_level)\n",
    "    STD_demand = std_demand(demand_level)\n",
    "    price = demand_level - round((tickets_left / days_left)) # makes sure every seat is sold at the highest (currently possible) price . Basically it's a linear d/dx\n",
    "    if(average_demand > demand_level and (len(avrg_demand) != 0 ) and days_left > 1 ): # if current demands are less than the average demand, and it's not the last day\n",
    "        price = demand_level - (tickets_left / days_left) + 3        # sell 3 less seats\n",
    "    if( (average_demand - STD_demand) > demand_level and (len(avrg_demand) != 0 ) and days_left > 1 ):              # if current demands are below the STD for demands\n",
    "        price = demand_level - (tickets_left / days_left) + 6\n",
    "    if( (demand_level  >= average_demand + (1.35* STD_demand)) and (len(avrg_demand) >= 5 )):  # if current demands are above 1.5 times the STD, then you better sell more seats\n",
    "        price = demand_level - (tickets_left / days_left) - 11\n",
    "    if( (demand_level  <= average_demand - (2* STD_demand)) and (len(avrg_demand) >= 5 )):\n",
    "        price = demand_level - (tickets_left / days_left) + 9\n",
    "    return price"
   ]
  },
  {
   "cell_type": "markdown",
   "metadata": {
    "_uuid": "8dfa22a10e6153f9beab25168b1a1b8acfe4960d"
   },
   "source": [
    "To see a small example of how your code works, test it with the following function:"
   ]
  },
  {
   "cell_type": "code",
   "execution_count": 4,
   "metadata": {
    "_uuid": "0faafdf897ee48bfd5e2f3f540c51877101dbcec"
   },
   "outputs": [
    {
     "name": "stdout",
     "output_type": "stream",
     "text": [
      "7 days before flight: Started with 50 seats. Demand level: 154. Price set to $147. Sold 7 tickets. Daily revenue is 1031. Total revenue-to-date is 1031. 43 seats remaining\n",
      "6 days before flight: Started with 43 seats. Demand level: 111. Price set to $109. Sold 1 tickets. Daily revenue is 109. Total revenue-to-date is 1141. 42 seats remaining\n",
      "5 days before flight: Started with 42 seats. Demand level: 174. Price set to $166. Sold 8 tickets. Daily revenue is 1326. Total revenue-to-date is 2467. 34 seats remaining\n",
      "4 days before flight: Started with 34 seats. Demand level: 166. Price set to $158. Sold 8 tickets. Daily revenue is 1260. Total revenue-to-date is 3727. 26 seats remaining\n",
      "3 days before flight: Started with 26 seats. Demand level: 138. Price set to $133. Sold 5 tickets. Daily revenue is 663. Total revenue-to-date is 4390. 21 seats remaining\n",
      "2 days before flight: Started with 21 seats. Demand level: 192. Price set to $171. Sold 21 tickets. Daily revenue is 3584. Total revenue-to-date is 7974. 0 seats remaining\n",
      "This flight is booked full.\n",
      "Total Revenue: $7974\n"
     ]
    },
    {
     "data": {
      "text/plain": [
       "7973.931873839145"
      ]
     },
     "execution_count": 4,
     "metadata": {},
     "output_type": "execute_result"
    }
   ],
   "source": [
    "simulate_revenue(days_left=7, tickets_left=50, pricing_function=pricing_function, verbose=True)"
   ]
  },
  {
   "cell_type": "code",
   "execution_count": 5,
   "metadata": {
    "_uuid": "c79555cd0745adcf80f62670307be5bc70ce8809"
   },
   "outputs": [],
   "source": [
    "#simulate_revenue(days_left=1000, tickets_left=1000, pricing_function=pricing_function, verbose=True);"
   ]
  },
  {
   "cell_type": "code",
   "execution_count": 6,
   "metadata": {
    "_uuid": "b0f77aa8eacec4da7af9ba4e85e3585debea1011"
   },
   "outputs": [],
   "source": [
    "# sns.distplot(demand_list)\n",
    "stats.describe(demand_list);\n",
    "# STD_demand(demand_list)"
   ]
  },
  {
   "cell_type": "markdown",
   "metadata": {
    "_uuid": "6cb61f41a2df125249a378413693b16ed145322a"
   },
   "source": [
    "You can try simulations for a variety of values.\n",
    "\n",
    "Once you feel good about your pricing function, run it with the following cell to to see how it performs on a wider range of flights."
   ]
  },
  {
   "cell_type": "code",
   "execution_count": 7,
   "metadata": {
    "_uuid": "13850c7c9a8f46098ddc4cca9c326abd378dd257"
   },
   "outputs": [
    {
     "name": "stdout",
     "output_type": "stream",
     "text": [
      "Ran 200 flights starting 100 days before flight with 100 tickets. Average revenue: $17961\n",
      "Ran 200 flights starting 14 days before flight with 50 tickets. Average revenue: $8212\n",
      "Ran 200 flights starting 2 days before flight with 20 tickets. Average revenue: $2864\n",
      "Ran 200 flights starting 1 days before flight with 3 tickets. Average revenue: $437\n"
     ]
    },
    {
     "data": {
      "application/javascript": [
       "parent.postMessage({\"jupyterEvent\": \"custom.exercise_interaction\", \"data\": {\"learnTutorialId\": 0, \"interactionType\": \"check\", \"questionId\": \"Aug31OptimizationChallenge\", \"outcomeType\": \"Pass\", \"valueTowardsCompletion\": 0.7368542619901859, \"failureMessage\": null, \"learnToolsVersion\": \"Testing\"}}, \"*\")"
      ],
      "text/plain": [
       "<IPython.core.display.Javascript object>"
      ]
     },
     "metadata": {},
     "output_type": "display_data"
    },
    {
     "name": "stdout",
     "output_type": "stream",
     "text": [
      "Average revenue across all flights is $7369\n"
     ]
    }
   ],
   "source": [
    "demand_list = []\n",
    "avrg_demand = demand_list\n",
    "score_me(pricing_function)"
   ]
  },
  {
   "cell_type": "markdown",
   "metadata": {
    "_uuid": "b2b09199f09d1a25d50c15a1fdedef51f96f01a6"
   },
   "source": [
    "# Discuss\n",
    "Want to discuss your solution or hear what others have done?  There is a [discussion thread](https://www.kaggle.com/general/62469) just for you."
   ]
  },
  {
   "cell_type": "markdown",
   "metadata": {
    "_uuid": "afed31fbc63a8b9e40958e92cf2cf7742b1d25f4"
   },
   "source": [
    "---\n",
    "*This micro-challenge is from an exercise in an upcoming Optimization course on **[Kaggle Learn](https://www.kaggle.com/Learn?utm_medium=website&utm_source=kaggle.com&utm_campaign=micro+challenge+2018)**.  If you enjoyed this challenge and want to beef up your data science skills, you might enjoy our other courses.*"
   ]
  },
  {
   "cell_type": "code",
   "execution_count": 8,
   "metadata": {
    "_uuid": "50bf43c0ddbb7aa8c660c137b8abb34ba9cf91da"
   },
   "outputs": [],
   "source": []
  }
 ],
 "metadata": {
  "kernelspec": {
   "display_name": "Python 3",
   "language": "python",
   "name": "python3"
  },
  "language_info": {
   "codemirror_mode": {
    "name": "ipython",
    "version": 3
   },
   "file_extension": ".py",
   "mimetype": "text/x-python",
   "name": "python",
   "nbconvert_exporter": "python",
   "pygments_lexer": "ipython3",
   "version": "3.6.6"
  }
 },
 "nbformat": 4,
 "nbformat_minor": 1
}
